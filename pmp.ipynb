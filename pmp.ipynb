{
  "nbformat": 4,
  "nbformat_minor": 0,
  "metadata": {
    "colab": {
      "name": "pmp.ipynb",
      "provenance": [],
      "authorship_tag": "ABX9TyMR3iTFrOdHdXW3/bQO80Kz",
      "include_colab_link": true
    },
    "kernelspec": {
      "name": "python3",
      "display_name": "Python 3"
    },
    "language_info": {
      "name": "python"
    }
  },
  "cells": [
    {
      "cell_type": "markdown",
      "metadata": {
        "id": "view-in-github",
        "colab_type": "text"
      },
      "source": [
        "<a href=\"https://colab.research.google.com/github/pyioautomate/ControlAnroidPython/blob/main/pmp.ipynb\" target=\"_parent\"><img src=\"https://colab.research.google.com/assets/colab-badge.svg\" alt=\"Open In Colab\"/></a>"
      ]
    },
    {
      "cell_type": "code",
      "execution_count": null,
      "metadata": {
        "colab": {
          "base_uri": "https://localhost:8080/",
          "height": 373
        },
        "id": "-vTGzE9j0fvA",
        "outputId": "13248934-9b7b-4c54-f225-adccbf2c54ed"
      },
      "outputs": [
        {
          "output_type": "error",
          "ename": "ModuleNotFoundError",
          "evalue": "ignored",
          "traceback": [
            "\u001b[0;31m---------------------------------------------------------------------------\u001b[0m",
            "\u001b[0;31mModuleNotFoundError\u001b[0m                       Traceback (most recent call last)",
            "\u001b[0;32m<ipython-input-2-7e4f3cb370f6>\u001b[0m in \u001b[0;36m<module>\u001b[0;34m()\u001b[0m\n\u001b[0;32m----> 1\u001b[0;31m \u001b[0;32mfrom\u001b[0m \u001b[0mselenium\u001b[0m \u001b[0;32mimport\u001b[0m \u001b[0mwebdriver\u001b[0m\u001b[0;34m\u001b[0m\u001b[0;34m\u001b[0m\u001b[0m\n\u001b[0m\u001b[1;32m      2\u001b[0m \u001b[0;32mimport\u001b[0m \u001b[0mpandas\u001b[0m \u001b[0;32mas\u001b[0m \u001b[0mpd\u001b[0m\u001b[0;34m\u001b[0m\u001b[0;34m\u001b[0m\u001b[0m\n\u001b[1;32m      3\u001b[0m \u001b[0;32mimport\u001b[0m \u001b[0mtime\u001b[0m\u001b[0;34m\u001b[0m\u001b[0;34m\u001b[0m\u001b[0m\n\u001b[1;32m      4\u001b[0m \u001b[0;34m\u001b[0m\u001b[0m\n\u001b[1;32m      5\u001b[0m \u001b[0;31m#Driver\u001b[0m\u001b[0;34m\u001b[0m\u001b[0;34m\u001b[0m\u001b[0;34m\u001b[0m\u001b[0m\n",
            "\u001b[0;31mModuleNotFoundError\u001b[0m: No module named 'selenium'",
            "",
            "\u001b[0;31m---------------------------------------------------------------------------\u001b[0;32m\nNOTE: If your import is failing due to a missing package, you can\nmanually install dependencies using either !pip or !apt.\n\nTo view examples of installing some common dependencies, click the\n\"Open Examples\" button below.\n\u001b[0;31m---------------------------------------------------------------------------\u001b[0m\n"
          ],
          "errorDetails": {
            "actions": [
              {
                "action": "open_url",
                "actionText": "Open Examples",
                "url": "/notebooks/snippets/importing_libraries.ipynb"
              }
            ]
          }
        }
      ],
      "source": [
        "from selenium import webdriver\n",
        "import pandas as pd\n",
        "import time\n",
        "\n",
        "#Driver\n",
        "driver = webdriver.Chrome(executable_path='C:\\webdrivers\\chromedriver.exe')\n",
        "\n",
        "def login():\n",
        "   loginurl = 'https://newmexico.pmpaware.net/'\n",
        "   user = ''\n",
        "   password = ''\n",
        "   driver.get(loginurl)\n",
        "   driver.find_element_by_name('auth_key').send_keys(user)\n",
        "   driver.find_element_by_name('password').send_keys(password)\n",
        "   driver.find_element_by_name('commit').click()\n",
        "\n",
        "def pturllist():\n",
        "   currentlist = 'https://newmexico.pmpaware.net/bulk_patient_searches/221219?page=' #<----------------------------------------------------------------- EDIT TO CURRENT SEARCH (COPY FROM PAGE NUMBER AT BOTTOM)\n",
        "   page = 1\n",
        "   visit = currentlist + str(page)\n",
        "   urllist = []\n",
        "   while page < 20: # <---------------------------------------------------------------------------------------------------------------------------------- EDIT TO PAGE NUMBER\n",
        "       driver.get(visit)\n",
        "       time.sleep(3)\n",
        "       elems = driver.find_elements_by_class_name('text-success')\n",
        "       for x in range(0,len(elems)):\n",
        "           if elems[x].is_displayed():\n",
        "               elems[x].click()\n",
        "               time.sleep(2)\n",
        "               urllist.append(driver.find_element_by_id('view_request_button').get_attribute(\"href\"))\n",
        "       page += 1\n",
        "       visit = currentlist + str(page)\n",
        "   return urllist\n",
        "\n",
        "def ptinfo(websitelist):\n",
        "   csvlist = []\n",
        "   for url in completeurl:\n",
        "       driver.get(url)\n",
        "       counter = 1\n",
        "       time.sleep(3)\n",
        "       name = driver.find_element_by_xpath('//*[@id=\"content\"]/div[4]/div[1]/div[2]/div/div[1]/h1').text\n",
        "       dob = driver.find_element_by_xpath('//*[@id=\"content\"]/div[4]/div[1]/div[2]/div/div[2]/div[1]').text\n",
        "       table = driver.find_element_by_id('prescriptions-table-tile').find_elements_by_class_name('vs-table__main-row')\n",
        "       #print(name, dob)\n",
        "       for x in table:\n",
        "           fill = x.find_element_by_class_name('vs-table__col--small-screens').text\n",
        "           med = x.find_element_by_class_name('vs-drug__name').text\n",
        "           qty = x.find_element_by_xpath('//*[@id=\"prescriptions-table-tile\"]/div/div[2]/table/tbody/tr[' + str(counter) + ']/td[6]').text\n",
        "           days = x.find_element_by_xpath('//*[@id=\"prescriptions-table-tile\"]/div/div[2]/table/tbody/tr[' + str(counter) + ']/td[7]').text\n",
        "           refills =x.find_element_by_xpath('//*[@id=\"prescriptions-table-tile\"]/div/div[2]/table/tbody/tr[' + str(counter) + ']/td[11]').text\n",
        "           prescriber =x.find_element_by_xpath('//*[@id=\"prescriptions-table-tile\"]/div/div[2]/table/tbody/tr[' + str(counter) + ']/td[8]').text\n",
        "           counter += 1\n",
        "           #print(fill, med, qty, days)\n",
        "           csvframe ={\n",
        "               'Name':name,\n",
        "               'DOB':dob,\n",
        "               'Fill Date':fill,\n",
        "               'Medication':med,\n",
        "               'Quantity':qty,\n",
        "               'Day Supply':days,\n",
        "               'Refills':refills,\n",
        "               'Presriber':prescriber\n",
        "           }\n",
        "           csvlist.append(csvframe)\n",
        "           name = \"\"\n",
        "   df = pd.DataFrame(csvlist)\n",
        "   print(df)\n",
        "   df.to_csv(r'C:\\Users\\hukhu\\Downloads\\PatientsAPRIL.csv', index=None) #------------------------------------------------------------------------------- FILE NAME\n",
        "   return df\n",
        "\n",
        "login()\n",
        "completeurl = pturllist()\n",
        "ptinfo(completeurl)"
      ]
    },
    {
      "cell_type": "markdown",
      "source": [],
      "metadata": {
        "id": "CsxiyV20oxn1"
      }
    }
  ]
}